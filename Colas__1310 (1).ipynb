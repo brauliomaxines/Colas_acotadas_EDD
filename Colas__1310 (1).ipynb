{
  "nbformat": 4,
  "nbformat_minor": 0,
  "metadata": {
    "colab": {
      "name": "Colas_ 1310.ipynb",
      "provenance": [],
      "collapsed_sections": []
    },
    "kernelspec": {
      "name": "python3",
      "display_name": "Python 3"
    },
    "language_info": {
      "name": "python"
    }
  },
  "cells": [
    {
      "cell_type": "code",
      "metadata": {
        "id": "BxVRc9KGJ_jE"
      },
      "source": [
        "class Queue:\n",
        "    def __init__( self ):\n",
        "        self.data = []\n",
        "\n",
        "    def is_empty( self ):\n",
        "         return len( self.data ) == 0\n",
        "\n",
        "    def length( self ):\n",
        "         return len( self.data )\n",
        "\n",
        "    def enqueue( self, value ):\n",
        "        self.data.append( value ) \n",
        "\n",
        "    def dequeue( self ):\n",
        "        if self.is_empty():\n",
        "            print(\"no se puede quitar mas elementos, la cola esta vacia\")\n",
        "        else:     \n",
        "            return self.data.pop(0)\n",
        "\n",
        "    def to_string( self ):\n",
        "        for elem in self.data:\n",
        "            print(f\"| { elem } | <--\", end=\"\" )\n",
        "        print(\"\")"
      ],
      "execution_count": 41,
      "outputs": []
    },
    {
      "cell_type": "code",
      "metadata": {
        "colab": {
          "base_uri": "https://localhost:8080/"
        },
        "id": "YFLGkCcpNfsB",
        "outputId": "46811661-94a0-44c7-e0fb-b15cbe727ee6"
      },
      "source": [
        "cola = Queue()\n",
        "print(\"Esta vacio?: \", cola.is_empty())\n",
        "print(\"Numero de elementos =\", cola.length())\n",
        "cola.enqueue(10)\n",
        "cola.enqueue(20)\n",
        "cola.enqueue(30)\n",
        "print(\"Esta vacio?: \", cola.is_empty())\n",
        "print(\"Numero de elementos =\", cola.length())\n",
        "cola.enqueue(40)\n",
        "cola.enqueue(50)\n",
        "cola.enqueue(60)\n",
        "cola.to_string()\n",
        "siguiente = cola.dequeue()\n",
        "print(\"Atendiendo a:\", siguiente)\n",
        "cola.to_string()"
      ],
      "execution_count": 36,
      "outputs": [
        {
          "output_type": "stream",
          "name": "stdout",
          "text": [
            "Esta vacio?:  True\n",
            "Numero de elementos = 0\n",
            "Esta vacio?:  False\n",
            "Numero de elementos = 3\n",
            " |10 | <-- |20 | <-- |30 | <-- |40 | <-- |50 | <-- |60 | <--Atendiendo a: 10\n",
            " |20 | <-- |30 | <-- |40 | <-- |50 | <-- |60 | <--"
          ]
        }
      ]
    },
    {
      "cell_type": "markdown",
      "metadata": {
        "id": "VkBCFCmSQkA9"
      },
      "source": [
        "# Variantes del ADT cola\n",
        "1. Circulares\n",
        "2. prioridad\n",
        "    1. acotada\n",
        "    2. No acotada\n"
      ]
    },
    {
      "cell_type": "code",
      "metadata": {
        "id": "BCfHAHxIDw95"
      },
      "source": [
        "#Prioridad acotada\n",
        "\n",
        "class BoundedPriorityQueue:\n",
        "    def __init__( self, niveles ):\n",
        "        self.__data = [Queue() for x in range(niveles)]\n",
        "        #self.__data = Array(niveles)\n",
        "        #self.__data.clear( Queue() )\n",
        "        self.__size = 0\n",
        "        \n",
        "    def is_empty( self ):\n",
        "         return self.__size == 0\n",
        "\n",
        "    def length( self ):\n",
        "         return self.__size\n",
        "\n",
        "    def enqueue( self, prioridad, elem):\n",
        "        if prioridad < len( self.__data) \\\n",
        "           and prioridad >= 0:\n",
        "           self.__data[ prioridad ].enqueue( elem )\n",
        "           self.__size +=1\n",
        "\n",
        "    def dequeue( self ):\n",
        "        nivel = 0\n",
        "        while self.__data[nivel].is_empty() \\\n",
        "              and nivel < self.length():\n",
        "            nivel +=1\n",
        "\n",
        "        if nivel >= self.length():\n",
        "            print(\"cola esta vacia\")\n",
        "        else:\n",
        "            return self.__data[ nivel ].dequeue()\n",
        "\n",
        "    def to_string( self ):\n",
        "        prioridad = 0\n",
        "        for cola in self.__data:\n",
        "            print(f\"Prioridad {prioridad} ->\", end=\"\")\n",
        "            if not cola.is_empty():\n",
        "                prioridad += 1\n",
        "                cola.to_string()                   \n"
      ],
      "execution_count": 46,
      "outputs": []
    },
    {
      "cell_type": "code",
      "metadata": {
        "colab": {
          "base_uri": "https://localhost:8080/"
        },
        "id": "rreFlVvcMm3K",
        "outputId": "4c456471-566c-48ae-b7d2-ae36542bb3ac"
      },
      "source": [
        "#prueba de la cola con prioridad\n",
        "\n",
        "salvavidas = BoundedPriorityQueue( 7 )\n",
        "salvavidas.enqueue( 4 , \"maestre\")\n",
        "salvavidas.enqueue( 1 , \"niños\")\n",
        "salvavidas.enqueue( 4 , \"mecanico\")\n",
        "salvavidas.enqueue( 3 , \"mujeres\")\n",
        "salvavidas.enqueue( 2 , \"tercera edad\")\n",
        "salvavidas.enqueue( 1 , \"niñas\")\n",
        "salvavidas.enqueue( 3 , \"hombres\")\n",
        "salvavidas.enqueue( 4 , \"vigia\")\n",
        "salvavidas.enqueue( 5 , \"capitan\")\n",
        "salvavidas.enqueue( 4 , \"timonel\")\n",
        "salvavidas.to_string()\n",
        "sig = salvavidas.dequeue()\n",
        "print(f\"Subiendo { sig } al bote salvavidas\")\n",
        "salvavidas.to_string()"
      ],
      "execution_count": 47,
      "outputs": [
        {
          "output_type": "stream",
          "name": "stdout",
          "text": [
            "Prioridad 0 ->Prioridad 0 ->| niños | <--| niñas | <--\n",
            "Prioridad 1 ->| tercera edad | <--\n",
            "Prioridad 2 ->| mujeres | <--| hombres | <--\n",
            "Prioridad 3 ->| maestre | <--| mecanico | <--| vigia | <--| timonel | <--\n",
            "Prioridad 4 ->| capitan | <--\n",
            "Prioridad 5 ->Subiendo niños al bote salvavidas\n",
            "Prioridad 0 ->Prioridad 0 ->| niñas | <--\n",
            "Prioridad 1 ->| tercera edad | <--\n",
            "Prioridad 2 ->| mujeres | <--| hombres | <--\n",
            "Prioridad 3 ->| maestre | <--| mecanico | <--| vigia | <--| timonel | <--\n",
            "Prioridad 4 ->| capitan | <--\n",
            "Prioridad 5 ->"
          ]
        }
      ]
    },
    {
      "cell_type": "code",
      "metadata": {
        "id": "gNhsm-l8R82X"
      },
      "source": [
        "#implementacion de las colas de prioridad sin acontamientos \n",
        "\n",
        "class PriorityQueue:\n",
        "    def __init__(self):\n",
        "        self.__data =[]\n",
        "        self.__size = 0\n",
        "\n",
        "    def is_empty( self ):\n",
        "         return self.__size == 0\n",
        "\n",
        "    def length( self ):\n",
        "         return self.__size\n",
        "\n",
        "    def enqueue(self , prioridad , elem ):\n",
        "        existe = False\n",
        "        indice = 0\n",
        "        for index in range(len(self.__data)):\n",
        "            if self.__data[index][ \"prioridad\" ] == prioridad:\n",
        "                existe = True\n",
        "                indice = index\n",
        "        \n",
        "        if existe:\n",
        "            self.__data[indice][\"cola\"].enqueue(elem)\n",
        "        else:\n",
        "            self.__data.append( {\"prioridad\":prioridad , \"cola\": Queue() } )\n",
        "            self.__data[-1][\"cola\"].enqueue(elem)\n",
        "\n",
        "    def to_string( self ):\n",
        "        for cola in self.__data:\n",
        "            cola[\"cola\"].to_string()\n"
      ],
      "execution_count": 44,
      "outputs": []
    },
    {
      "cell_type": "code",
      "metadata": {
        "colab": {
          "base_uri": "https://localhost:8080/"
        },
        "id": "5mLwh6kXUCRs",
        "outputId": "836b5ef9-fc39-44e5-e1e8-55f266ba889f"
      },
      "source": [
        "cp = PriorityQueue()\n",
        "cp.enqueue(1,\"niñas\")\n",
        "cp.enqueue(2,\"niños\")\n",
        "cp.enqueue(2,\"Maestros\")\n",
        "cp.to_string()"
      ],
      "execution_count": 45,
      "outputs": [
        {
          "output_type": "stream",
          "name": "stdout",
          "text": [
            "| niñas | <--\n",
            "| niños | <--| Maestros | <--\n"
          ]
        }
      ]
    }
  ]
}